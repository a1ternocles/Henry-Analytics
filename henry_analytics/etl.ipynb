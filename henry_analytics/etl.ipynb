{
 "cells": [
  {
   "cell_type": "markdown",
   "metadata": {},
   "source": [
    "## Extracting Transforming Load (ETL)\n",
    "\n",
    "En este notebook se planea procesar los datos encontrados en los archivos .csv. Con este fin vamos a usar distintas librerias que nos permitan obtener una base de datos limpia. Es de tener en cuenta que se usaran la menor cantidad de celdas de accion con el fin de hacer nuestro codigo lo mas corto y simple posible. De ser necesario, las interacciones tendran su respectivo comentario que nos ayudara a entender el codigo.\n",
    "\n",
    "Nuestro codigo se repartira en distintas secciones teniendo una similitud con el patron Modelo - Vista - Controlador (MVC):\n",
    "\n",
    "Celda de librerias.\n",
    "Celda de acciones.\n",
    "Celda de vistas.\n"
   ]
  },
  {
   "cell_type": "markdown",
   "metadata": {},
   "source": [
    "## 1. Librerias\n",
    "Esta Celda nos ayudara a traer todas las librerias necesarias con el fin de completar el ejercicio"
   ]
  },
  {
   "cell_type": "code",
   "execution_count": 4,
   "metadata": {},
   "outputs": [],
   "source": [
    "#Importamos las librerias necesarias para el ejercicio\n",
    "\n",
    "import pandas as pd\n",
    "import numpy as np"
   ]
  },
  {
   "cell_type": "markdown",
   "metadata": {},
   "source": [
    "## 2. Acciones\n",
    "Esta celda nos ayudara a crear todas las funciones necesarias"
   ]
  },
  {
   "cell_type": "code",
   "execution_count": 3,
   "metadata": {},
   "outputs": [],
   "source": [
    "#Funcion que crea diccionarios para poder contar los tipos de datos que se encuentran en cada dataframe\n",
    "def diccionario_tipos_datos(dataframe_file):\n",
    "\n",
    "    dicc_col = {}\n",
    "    \n",
    "    for columna in dataframe_file:\n",
    "        conteo_tipos = dataframe_file[columna].apply(type).value_counts().to_dict()\n",
    "        dicc_col[columna] = {str(tipo): conteo for tipo, conteo in conteo_tipos.items()}\n",
    "\n",
    "    return dicc_col\n",
    "\n",
    "#Funcion que convierte los datos a flotantes si son numeros o ceros si son de otro tipo\n",
    "\n",
    "def cambio_a_float(dato):\n",
    "\n",
    "    if pd.isna(dato):\n",
    "        return 0.0\n",
    "    \n",
    "    try:\n",
    "        return float(dato)\n",
    "    except(ValueError, TypeError):\n",
    "        return 0.0\n",
    "\n",
    "#Funcion que convierte los datos a Datetime y devuelve None en caso de ser otro tipo\n",
    "\n",
    "def cambio_a_datetime(dato):\n",
    "\n",
    "    if pd.isna(dato):\n",
    "        return None\n",
    "\n",
    "    try:\n",
    "        return pd.to_datetime(dato)\n",
    "    except ValueError:\n",
    "        return None"
   ]
  },
  {
   "cell_type": "markdown",
   "metadata": {},
   "source": [
    "## 3. Vistas\n",
    "## 3.1. Obtencion de datos\n",
    "\n",
    "En esta seccion nos enfocamos en transformar los datos del formato original (.csv) a un formato Dataframe de pandas con el fin de poder observar, eliminar, transformar y demas procesos que nos permitan una mejor visualizacion y optimizacion de dichos datos.\n",
    "\n",
    "Los procesos a aplicar son:\n",
    "\n",
    "* Transformacion de .csv a Dataframe\n",
    "\n",
    "* Eliminacion y agregacion de columnas\n",
    "\n",
    "* Eliminacion de valores Null/Nan en los distintos Datasets\n",
    "\n",
    "* Reinicio de indices\n",
    "\n",
    "* Casting de datos a formatos correspondientes\n",
    "\n"
   ]
  },
  {
   "cell_type": "markdown",
   "metadata": {},
   "source": [
    "## 3.1.1 ETL para el Dataset: \"Internet_Penetracion.csv\""
   ]
  },
  {
   "cell_type": "code",
   "execution_count": 19,
   "metadata": {},
   "outputs": [
    {
     "name": "stdout",
     "output_type": "stream",
     "text": [
      "Carga completa del dataset: Internet_Penetracion.csv\n",
      "Caracteres cambiados en columnas: ['Accesos por cada 100 hogares', 'Accesos por cada 100 hab']\n",
      "Cambio format a float en columnas: ['Accesos por cada 100 hogares', 'Accesos por cada 100 hab']\n"
     ]
    }
   ],
   "source": [
    "#Carga del dataset\n",
    "inter_hogar = pd.read_csv(\"C:\\\\Users\\\\andre\\\\Documents\\\\Py Codes\\\\data\\\\Internet_Penetracion.csv\", sep=\",\")\n",
    "print(\"Carga completa del dataset: Internet_Penetracion.csv\")\n",
    "\n",
    "#Remplazo de \",\" a \".\" en columnas: Accesos por cada 100 hogares; Accesos por cada 100 hab\n",
    "col_trabajar = [\"Accesos por cada 100 hogares\",\"Accesos por cada 100 hab\"]\n",
    "inter_hogar[\"Accesos por cada 100 hogares\"] = inter_hogar[\"Accesos por cada 100 hogares\"].str.replace(\",\", \".\")\n",
    "inter_hogar[\"Accesos por cada 100 hab\"] = inter_hogar[\"Accesos por cada 100 hab\"].str.replace(\",\", \".\")\n",
    "print(f\"Caracteres cambiados en columnas: {col_trabajar}\")\n",
    "\n",
    "#Casting str a float\n",
    "inter_hogar[\"Accesos por cada 100 hogares\"] = inter_hogar[\"Accesos por cada 100 hogares\"].apply(cambio_a_float)\n",
    "inter_hogar[\"Accesos por cada 100 hab\"] = inter_hogar[\"Accesos por cada 100 hab\"].apply(cambio_a_float)\n",
    "print(f\"Cambio format a float en columnas: {col_trabajar}\")"
   ]
  },
  {
   "cell_type": "markdown",
   "metadata": {},
   "source": [
    "## 3.1.2 ETL para el Dataset: \"Internet_BAF.csv\""
   ]
  },
  {
   "cell_type": "code",
   "execution_count": 27,
   "metadata": {},
   "outputs": [
    {
     "name": "stdout",
     "output_type": "stream",
     "text": [
      "Columna: Total modificada\n"
     ]
    }
   ],
   "source": [
    "#Carga del dataset\n",
    "inter_tech = pd.read_csv(\"C:\\\\Users\\\\andre\\\\Documents\\\\Py Codes\\\\data\\\\Internet_BAF.csv\",sep=\",\")\n",
    "\n",
    "#Eliminacion de la col \"total\" y adicion de una nueva\n",
    "inter_tech.drop(columns=\"Total\", inplace=True)\n",
    "inter_tech[\"total\"] = inter_tech[\"Banda ancha fija\"] + inter_tech[\"Dial up\"]\n",
    "print(\"Columna: Total modificada\")\n"
   ]
  },
  {
   "cell_type": "code",
   "execution_count": 28,
   "metadata": {},
   "outputs": [
    {
     "data": {
      "text/html": [
       "<div>\n",
       "<style scoped>\n",
       "    .dataframe tbody tr th:only-of-type {\n",
       "        vertical-align: middle;\n",
       "    }\n",
       "\n",
       "    .dataframe tbody tr th {\n",
       "        vertical-align: top;\n",
       "    }\n",
       "\n",
       "    .dataframe thead th {\n",
       "        text-align: right;\n",
       "    }\n",
       "</style>\n",
       "<table border=\"1\" class=\"dataframe\">\n",
       "  <thead>\n",
       "    <tr style=\"text-align: right;\">\n",
       "      <th></th>\n",
       "      <th>Año</th>\n",
       "      <th>Trimestre</th>\n",
       "      <th>Provincia</th>\n",
       "      <th>Banda ancha fija</th>\n",
       "      <th>Dial up</th>\n",
       "      <th>total</th>\n",
       "    </tr>\n",
       "  </thead>\n",
       "  <tbody>\n",
       "    <tr>\n",
       "      <th>0</th>\n",
       "      <td>2022</td>\n",
       "      <td>4</td>\n",
       "      <td>Buenos Aires</td>\n",
       "      <td>5</td>\n",
       "      <td>6.0</td>\n",
       "      <td>11.0</td>\n",
       "    </tr>\n",
       "    <tr>\n",
       "      <th>1</th>\n",
       "      <td>2022</td>\n",
       "      <td>4</td>\n",
       "      <td>Capital Federal</td>\n",
       "      <td>2</td>\n",
       "      <td>2.0</td>\n",
       "      <td>4.0</td>\n",
       "    </tr>\n",
       "    <tr>\n",
       "      <th>2</th>\n",
       "      <td>2022</td>\n",
       "      <td>4</td>\n",
       "      <td>Catamarca</td>\n",
       "      <td>71</td>\n",
       "      <td>1.0</td>\n",
       "      <td>72.0</td>\n",
       "    </tr>\n",
       "    <tr>\n",
       "      <th>3</th>\n",
       "      <td>2022</td>\n",
       "      <td>4</td>\n",
       "      <td>Chaco</td>\n",
       "      <td>144</td>\n",
       "      <td>5.0</td>\n",
       "      <td>149.0</td>\n",
       "    </tr>\n",
       "    <tr>\n",
       "      <th>4</th>\n",
       "      <td>2022</td>\n",
       "      <td>4</td>\n",
       "      <td>Chubut</td>\n",
       "      <td>168</td>\n",
       "      <td>904.0</td>\n",
       "      <td>1072.0</td>\n",
       "    </tr>\n",
       "  </tbody>\n",
       "</table>\n",
       "</div>"
      ],
      "text/plain": [
       "    Año  Trimestre        Provincia  Banda ancha fija  Dial up   total\n",
       "0  2022          4     Buenos Aires                 5      6.0    11.0\n",
       "1  2022          4  Capital Federal                 2      2.0     4.0\n",
       "2  2022          4        Catamarca                71      1.0    72.0\n",
       "3  2022          4            Chaco               144      5.0   149.0\n",
       "4  2022          4           Chubut               168    904.0  1072.0"
      ]
     },
     "execution_count": 28,
     "metadata": {},
     "output_type": "execute_result"
    }
   ],
   "source": [
    "inter_tech.head()"
   ]
  },
  {
   "cell_type": "code",
   "execution_count": 25,
   "metadata": {},
   "outputs": [
    {
     "data": {
      "text/plain": [
       "Año                 0\n",
       "Trimestre           0\n",
       "Provincia           0\n",
       "Banda ancha fija    0\n",
       "Dial up             2\n",
       "Total               0\n",
       "dtype: int64"
      ]
     },
     "execution_count": 25,
     "metadata": {},
     "output_type": "execute_result"
    }
   ],
   "source": [
    "inter_tech.isnull().sum()"
   ]
  },
  {
   "cell_type": "code",
   "execution_count": 26,
   "metadata": {},
   "outputs": [
    {
     "data": {
      "text/plain": [
       "{'Año': {\"<class 'int'>\": 864},\n",
       " 'Trimestre': {\"<class 'int'>\": 864},\n",
       " 'Provincia': {\"<class 'str'>\": 864},\n",
       " 'Banda ancha fija': {\"<class 'int'>\": 864},\n",
       " 'Dial up': {\"<class 'float'>\": 864},\n",
       " 'Total': {\"<class 'int'>\": 864}}"
      ]
     },
     "execution_count": 26,
     "metadata": {},
     "output_type": "execute_result"
    }
   ],
   "source": [
    "diccionario_tipos_datos(inter_tech)"
   ]
  },
  {
   "cell_type": "code",
   "execution_count": null,
   "metadata": {},
   "outputs": [],
   "source": [
    "#Carga del dataset\n",
    "\n",
    "inter_acess = pd.read_csv(\"C:\\\\Users\\\\andre\\\\Documents\\\\Py Codes\\\\data\\\\Internet_Accesos-por-conectividad.csv\",sep=\",\")\n"
   ]
  },
  {
   "cell_type": "code",
   "execution_count": null,
   "metadata": {},
   "outputs": [],
   "source": []
  }
 ],
 "metadata": {
  "kernelspec": {
   "display_name": "virtual-env",
   "language": "python",
   "name": "python3"
  },
  "language_info": {
   "codemirror_mode": {
    "name": "ipython",
    "version": 3
   },
   "file_extension": ".py",
   "mimetype": "text/x-python",
   "name": "python",
   "nbconvert_exporter": "python",
   "pygments_lexer": "ipython3",
   "version": "3.11.6"
  }
 },
 "nbformat": 4,
 "nbformat_minor": 2
}
